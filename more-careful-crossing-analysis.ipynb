{
 "cells": [
  {
   "cell_type": "code",
   "execution_count": 58,
   "id": "242378ba-7e01-4c5a-a671-875a8afc52aa",
   "metadata": {
    "editable": true,
    "slideshow": {
     "slide_type": ""
    },
    "tags": []
   },
   "outputs": [],
   "source": [
    "import diagonal_b6 as b6\n",
    "import pandas as pd\n",
    "from tqdm.notebook import tqdm"
   ]
  },
  {
   "cell_type": "code",
   "execution_count": 59,
   "id": "8363eb20-467a-4a66-9cba-9029702fcfd7",
   "metadata": {},
   "outputs": [],
   "source": [
    "w = b6.connect_insecure(\"0.0.0.0:8002\")"
   ]
  },
  {
   "cell_type": "markdown",
   "id": "54f604d7-d43e-4450-85b1-a2807ec23685",
   "metadata": {},
   "source": [
    "We use _#amenity=school_ as it has details like \"name\"."
   ]
  },
  {
   "cell_type": "code",
   "execution_count": 60,
   "id": "630e27fb-6bc1-4b79-9b5f-32a5dabf148f",
   "metadata": {},
   "outputs": [],
   "source": [
    "schools = b6.find(b6.tagged(\"#amenity\", \"school\"))\n",
    "school_names = w(schools.map(lambda f: f.get_string(\"name\")))"
   ]
  },
  {
   "cell_type": "code",
   "execution_count": 61,
   "id": "58faed1e-d317-4552-bd43-5bc5b946e3ff",
   "metadata": {},
   "outputs": [],
   "source": [
    "# w(schools)[0][1].all_tags()"
   ]
  },
  {
   "cell_type": "code",
   "execution_count": 62,
   "id": "f194cdb4-ad65-4f11-99f8-8a9cd2dd7c2c",
   "metadata": {},
   "outputs": [],
   "source": [
    "# Pick out EMAS, as we want to center our analysis around that.\n",
    "[emas_feature_id] = [ s for s, n in school_names if \"Montessori\" in n ]"
   ]
  },
  {
   "cell_type": "code",
   "execution_count": 63,
   "id": "086f19c1-2f37-4d50-825d-83657e368b53",
   "metadata": {},
   "outputs": [
    {
     "data": {
      "text/plain": [
       "/point/openstreetmap.org/node/4057361549"
      ]
     },
     "execution_count": 63,
     "metadata": {},
     "output_type": "execute_result"
    }
   ],
   "source": [
    "emas_feature_id"
   ]
  },
  {
   "cell_type": "code",
   "execution_count": 34,
   "id": "34d633e0-eacf-47f1-ace1-2cd68fbce138",
   "metadata": {},
   "outputs": [
    {
     "data": {
      "application/vnd.jupyter.widget-view+json": {
       "model_id": "83bbc25122f8428581998b70261f3546",
       "version_major": 2,
       "version_minor": 0
      },
      "text/plain": [
       "  0%|          | 0/161 [00:00<?, ?it/s]"
      ]
     },
     "metadata": {},
     "output_type": "display_data"
    },
    {
     "data": {
      "text/html": [
       "<div>\n",
       "<style scoped>\n",
       "    .dataframe tbody tr th:only-of-type {\n",
       "        vertical-align: middle;\n",
       "    }\n",
       "\n",
       "    .dataframe tbody tr th {\n",
       "        vertical-align: top;\n",
       "    }\n",
       "\n",
       "    .dataframe thead th {\n",
       "        text-align: right;\n",
       "    }\n",
       "</style>\n",
       "<table border=\"1\" class=\"dataframe\">\n",
       "  <thead>\n",
       "    <tr style=\"text-align: right;\">\n",
       "      <th></th>\n",
       "      <th>Name</th>\n",
       "      <th>school_feature_id</th>\n",
       "      <th>crossing_feature_id</th>\n",
       "      <th>Speed</th>\n",
       "      <th>Distance</th>\n",
       "      <th>Kind</th>\n",
       "    </tr>\n",
       "  </thead>\n",
       "  <tbody>\n",
       "    <tr>\n",
       "      <th>0</th>\n",
       "      <td>Pirniehall Primary School</td>\n",
       "      <td>/point/openstreetmap.org/node/36150503</td>\n",
       "      <td>/point/openstreetmap.org/node/5803035196</td>\n",
       "      <td>20 mph</td>\n",
       "      <td>264.043296</td>\n",
       "      <td></td>\n",
       "    </tr>\n",
       "    <tr>\n",
       "      <th>1</th>\n",
       "      <td>Pirniehall Primary School</td>\n",
       "      <td>/point/openstreetmap.org/node/36150503</td>\n",
       "      <td>/point/openstreetmap.org/node/3797106790</td>\n",
       "      <td>20 mph</td>\n",
       "      <td>143.883103</td>\n",
       "      <td>pelican</td>\n",
       "    </tr>\n",
       "    <tr>\n",
       "      <th>2</th>\n",
       "      <td>Pirniehall Primary School</td>\n",
       "      <td>/point/openstreetmap.org/node/36150503</td>\n",
       "      <td>/point/openstreetmap.org/node/3797106791</td>\n",
       "      <td>20 mph</td>\n",
       "      <td>132.092958</td>\n",
       "      <td>pelican</td>\n",
       "    </tr>\n",
       "    <tr>\n",
       "      <th>3</th>\n",
       "      <td>Pirniehall Primary School</td>\n",
       "      <td>/point/openstreetmap.org/node/36150503</td>\n",
       "      <td>/point/openstreetmap.org/node/746873944</td>\n",
       "      <td>20 mph</td>\n",
       "      <td>260.354669</td>\n",
       "      <td>zebra</td>\n",
       "    </tr>\n",
       "    <tr>\n",
       "      <th>4</th>\n",
       "      <td>Pirniehall Primary School</td>\n",
       "      <td>/point/openstreetmap.org/node/36150503</td>\n",
       "      <td>/point/openstreetmap.org/node/746873942</td>\n",
       "      <td>20 mph</td>\n",
       "      <td>250.149500</td>\n",
       "      <td>zebra</td>\n",
       "    </tr>\n",
       "    <tr>\n",
       "      <th>...</th>\n",
       "      <td>...</td>\n",
       "      <td>...</td>\n",
       "      <td>...</td>\n",
       "      <td>...</td>\n",
       "      <td>...</td>\n",
       "      <td>...</td>\n",
       "    </tr>\n",
       "    <tr>\n",
       "      <th>825</th>\n",
       "      <td>Basil Paterson School</td>\n",
       "      <td>/area/openstreetmap.org/way/1281993766</td>\n",
       "      <td>/point/openstreetmap.org/node/10305028448</td>\n",
       "      <td>20 mph</td>\n",
       "      <td>270.415540</td>\n",
       "      <td></td>\n",
       "    </tr>\n",
       "    <tr>\n",
       "      <th>826</th>\n",
       "      <td>Basil Paterson School</td>\n",
       "      <td>/area/openstreetmap.org/way/1281993766</td>\n",
       "      <td>/point/openstreetmap.org/node/2342227330</td>\n",
       "      <td>20 mph</td>\n",
       "      <td>161.183965</td>\n",
       "      <td>zebra</td>\n",
       "    </tr>\n",
       "    <tr>\n",
       "      <th>827</th>\n",
       "      <td>Basil Paterson School</td>\n",
       "      <td>/area/openstreetmap.org/way/1281993766</td>\n",
       "      <td>/point/openstreetmap.org/node/10720095619</td>\n",
       "      <td>20 mph</td>\n",
       "      <td>177.124021</td>\n",
       "      <td></td>\n",
       "    </tr>\n",
       "    <tr>\n",
       "      <th>828</th>\n",
       "      <td>Basil Paterson School</td>\n",
       "      <td>/area/openstreetmap.org/way/1281993766</td>\n",
       "      <td>/point/openstreetmap.org/node/9311191648</td>\n",
       "      <td>20 mph</td>\n",
       "      <td>75.941876</td>\n",
       "      <td></td>\n",
       "    </tr>\n",
       "    <tr>\n",
       "      <th>829</th>\n",
       "      <td>ESMS - The Dean</td>\n",
       "      <td>/area/openstreetmap.org/way/1283237239</td>\n",
       "      <td>/point/openstreetmap.org/node/2822030847</td>\n",
       "      <td>20 mph</td>\n",
       "      <td>320.688186</td>\n",
       "      <td>pelican</td>\n",
       "    </tr>\n",
       "  </tbody>\n",
       "</table>\n",
       "<p>830 rows × 6 columns</p>\n",
       "</div>"
      ],
      "text/plain": [
       "                          Name                       school_feature_id  \\\n",
       "0    Pirniehall Primary School  /point/openstreetmap.org/node/36150503   \n",
       "1    Pirniehall Primary School  /point/openstreetmap.org/node/36150503   \n",
       "2    Pirniehall Primary School  /point/openstreetmap.org/node/36150503   \n",
       "3    Pirniehall Primary School  /point/openstreetmap.org/node/36150503   \n",
       "4    Pirniehall Primary School  /point/openstreetmap.org/node/36150503   \n",
       "..                         ...                                     ...   \n",
       "825      Basil Paterson School  /area/openstreetmap.org/way/1281993766   \n",
       "826      Basil Paterson School  /area/openstreetmap.org/way/1281993766   \n",
       "827      Basil Paterson School  /area/openstreetmap.org/way/1281993766   \n",
       "828      Basil Paterson School  /area/openstreetmap.org/way/1281993766   \n",
       "829            ESMS - The Dean  /area/openstreetmap.org/way/1283237239   \n",
       "\n",
       "                           crossing_feature_id   Speed    Distance     Kind  \n",
       "0     /point/openstreetmap.org/node/5803035196  20 mph  264.043296           \n",
       "1     /point/openstreetmap.org/node/3797106790  20 mph  143.883103  pelican  \n",
       "2     /point/openstreetmap.org/node/3797106791  20 mph  132.092958  pelican  \n",
       "3      /point/openstreetmap.org/node/746873944  20 mph  260.354669    zebra  \n",
       "4      /point/openstreetmap.org/node/746873942  20 mph  250.149500    zebra  \n",
       "..                                         ...     ...         ...      ...  \n",
       "825  /point/openstreetmap.org/node/10305028448  20 mph  270.415540           \n",
       "826   /point/openstreetmap.org/node/2342227330  20 mph  161.183965    zebra  \n",
       "827  /point/openstreetmap.org/node/10720095619  20 mph  177.124021           \n",
       "828   /point/openstreetmap.org/node/9311191648  20 mph   75.941876           \n",
       "829   /point/openstreetmap.org/node/2822030847  20 mph  320.688186  pelican  \n",
       "\n",
       "[830 rows x 6 columns]"
      ]
     },
     "execution_count": 34,
     "metadata": {},
     "output_type": "execute_result"
    }
   ],
   "source": [
    "results = []\n",
    "new_tags = []\n",
    "our_crossings = []\n",
    "\n",
    "# Note: Should we look for more crossings?\n",
    "# For example, adding on:\n",
    "#\n",
    "#   > .or_(b6.keyed(\"#highway\", \"crossing\"))\n",
    "# ?\n",
    "is_crossing = b6.keyed(\"crossing\") # \n",
    "\n",
    "for school, name in tqdm(school_names):\n",
    "\n",
    "    # New feature: 'is_valid()'\n",
    "    crossings = w( b6.accessible_all([school], is_crossing, 500.0, {\"mode\": \"walk\"})\n",
    "                  .filter(lambda x: b6.matches(x, b6.is_valid()))\n",
    "                 )\n",
    "\n",
    "    for _, crossing in crossings:\n",
    "        our_crossings.append(crossing)\n",
    "        \n",
    "        roads = w( b6.find(b6.within_cap( b6.find_feature(crossing), 1.0))\n",
    "                  .filter(lambda v: b6.matches(v, b6.keyed(\"maxspeed\")))\n",
    "                  .map(lambda v: v.get_string(\"maxspeed\"))\n",
    "                 )\n",
    "\n",
    "        if len(roads) == 1:\n",
    "            # New feature: 'get_centroid'\n",
    "            distance = w( b6.distance_meters( b6.find_feature(school).get_centroid()\n",
    "                                            , b6.find_feature(crossing).get_centroid()\n",
    "                                            ))\n",
    "\n",
    "            # Tag the crossing with the distance to the school.\n",
    "            # tag = b6.add_tag(school, b6.tag(\"distance-to-school\", f\"{int(distance)}\"))\n",
    "            # new_tags.append(tag)\n",
    "\n",
    "            # Note: Would be ideal to not have to do this query again.\n",
    "            kind = w( b6.find_feature(crossing) ).get_string(\"crossing_ref\")\n",
    "\n",
    "            results.append(\n",
    "                { \"Name\": name\n",
    "                , \"school_feature_id\": school\n",
    "                , \"crossing_feature_id\": crossing\n",
    "                , \"Speed\": roads[0][1]\n",
    "                , \"Distance\": distance\n",
    "                , \"Kind\": kind\n",
    "                })\n",
    "\n",
    "df = pd.DataFrame(results)\n",
    "df"
   ]
  },
  {
   "cell_type": "code",
   "execution_count": 44,
   "id": "0c9859a8-0fdc-42e5-80de-977bae590972",
   "metadata": {},
   "outputs": [],
   "source": [
    "min_df = df.loc[df.groupby('Name').Distance.idxmin()]\n",
    "# min_df"
   ]
  },
  {
   "cell_type": "markdown",
   "id": "459b5aad-d1e7-40a2-8475-d071e310c798",
   "metadata": {},
   "source": [
    "Create tags for `min_df` by school"
   ]
  },
  {
   "cell_type": "code",
   "execution_count": 45,
   "id": "52987b49-b200-40ac-a1e7-0ed4016ebe32",
   "metadata": {},
   "outputs": [
    {
     "data": {
      "text/plain": [
       "124"
      ]
     },
     "execution_count": 45,
     "metadata": {},
     "output_type": "execute_result"
    }
   ],
   "source": [
    "len( min_df.Distance )"
   ]
  },
  {
   "cell_type": "code",
   "execution_count": 46,
   "id": "e01c5e52-0e33-4410-a03e-a0a0a9656adc",
   "metadata": {},
   "outputs": [],
   "source": [
    "new_tags = []\n",
    "\n",
    "for _, row in min_df.iterrows():\n",
    "    school_tag   = b6.add_tag(row.school_feature_id, b6.tag(\"#distance-to-crossing\", f\"{row.Distance}\"))\n",
    "    crossing_tag = b6.add_tag(row.crossing_feature_id, b6.tag(\"#maxspeed\", row.Speed))\n",
    "    \n",
    "    new_tags.append(school_tag)\n",
    "    new_tags.append(crossing_tag)"
   ]
  },
  {
   "cell_type": "code",
   "execution_count": 451,
   "id": "fab64d89-42b2-4665-8567-6a9a18d32eb5",
   "metadata": {},
   "outputs": [],
   "source": [
    "# Write tags to a file.\n",
    "\n",
    "# changes = b6.merge_changes(new_tags)\n",
    "\n",
    "# w( b6.with_change(changes, lambda: b6.changes_to_file(\"add-school-distance-tags.yaml\")) );"
   ]
  },
  {
   "cell_type": "code",
   "execution_count": 352,
   "id": "6c418625-1b96-49f0-893c-213c2b41387a",
   "metadata": {},
   "outputs": [],
   "source": [
    "# min_df"
   ]
  },
  {
   "cell_type": "code",
   "execution_count": 353,
   "id": "2159e048-5228-4157-8ddf-c284f6c7c2e3",
   "metadata": {},
   "outputs": [],
   "source": [
    "# min_df[ min_df.Name.str.contains(\"Montessori\") ]"
   ]
  },
  {
   "cell_type": "code",
   "execution_count": 354,
   "id": "ff30b5e0-cb52-4492-940b-be612c94b474",
   "metadata": {},
   "outputs": [],
   "source": [
    "# min_df[ (min_df[\"Speed\"] == \"30 mph\") ].sort_values([\"Distance\"])"
   ]
  },
  {
   "cell_type": "code",
   "execution_count": 355,
   "id": "406ce7e4-e5bd-4a94-be98-1f552bc26ab7",
   "metadata": {},
   "outputs": [],
   "source": [
    "# min_df[ (min_df[\"Speed\"] == \"20 mph\") ].sort_values([\"Distance\"])"
   ]
  },
  {
   "cell_type": "code",
   "execution_count": 356,
   "id": "1a547067-7ea5-4912-914f-2ab90561d3bc",
   "metadata": {},
   "outputs": [],
   "source": [
    "# min_df[ min_df.Name.str.contains(\"Portobello High School\") ]"
   ]
  },
  {
   "cell_type": "markdown",
   "id": "6da08b88-eff0-4659-bd52-6984203a847e",
   "metadata": {},
   "source": [
    "## Build b6 ui"
   ]
  },
  {
   "cell_type": "code",
   "execution_count": 130,
   "id": "36be947c-4a8a-4459-ae26-f9c624fc44d1",
   "metadata": {},
   "outputs": [],
   "source": [
    "name = \"diagonal.works/edinburgh/school-crossing-analyis\""
   ]
  },
  {
   "cell_type": "code",
   "execution_count": 131,
   "id": "97ba1861-08b1-4a3c-84c7-5936ed546388",
   "metadata": {},
   "outputs": [],
   "source": [
    "root                  = b6.FeatureID(b6.FEATURE_TYPE_COLLECTION, name, 0)\n",
    "distance_histogram_id = b6.FeatureID(b6.FEATURE_TYPE_COLLECTION, name, 1)\n",
    "speed_histogram_id    = b6.FeatureID(b6.FEATURE_TYPE_COLLECTION, name, 2)\n",
    "kind_histogram_id     = b6.FeatureID(b6.FEATURE_TYPE_COLLECTION, name, 3)\n",
    "schools_collection_id = b6.FeatureID(b6.FEATURE_TYPE_COLLECTION, name, 4)"
   ]
  },
  {
   "cell_type": "code",
   "execution_count": 132,
   "id": "5060c451-22aa-499a-a6b9-aa111a53b5f1",
   "metadata": {},
   "outputs": [],
   "source": [
    "changes = b6.merge_changes(new_tags)\n",
    "w(b6.add_world_with_change(root, changes));"
   ]
  },
  {
   "cell_type": "code",
   "execution_count": 133,
   "id": "33a0f29d-8d42-4a72-bca8-266dafce73f8",
   "metadata": {},
   "outputs": [],
   "source": [
    "w_root = b6.connect_insecure(\"0.0.0.0:8002\", root=root)"
   ]
  },
  {
   "cell_type": "code",
   "execution_count": 134,
   "id": "0507e0da-c70d-466e-8ef5-ec18735ff921",
   "metadata": {},
   "outputs": [],
   "source": [
    "# Distances\n",
    "tagged_schools = b6.find(b6.keyed(\"#distance-to-crossing\"))\n",
    "\n",
    "distance_histogram = b6.histogram_with_id( tagged_schools.map(lambda v: v.get_float(\"#distance-to-crossing\"))\n",
    "                                         , distance_histogram_id\n",
    "                                         )\n",
    "distance_histogram_labels = b6.add_tag(distance_histogram_id, b6.tag(\"b6:label\", \"Distance to closest crossing\"))\n",
    "\n",
    "\n",
    "# Speeds on the street of the crossings\n",
    "tagged_crossings = b6.find(b6.keyed(\"#maxspeed\"))\n",
    "\n",
    "speed_histogram = b6.histogram_with_id( tagged_crossings.map(lambda v: v.get_string(\"#maxspeed\"))\n",
    "                                      , speed_histogram_id\n",
    "                                      )\n",
    "speed_histogram_labels = b6.add_tag(speed_histogram_id, b6.tag(\"b6:label\", \"Max speed\"))\n",
    "\n",
    "\n",
    "# Kinds of the crossings\n",
    "kind_histogram = b6.histogram_with_id( tagged_crossings.map(lambda v: v.get_string(\"crossing_ref\"))\n",
    "                                      , kind_histogram_id\n",
    "                                      )\n",
    "kind_histogram_labels = b6.add_tag(kind_histogram_id, b6.tag(\"b6:label\", \"Crossing kind\"))\n",
    "\n",
    "\n",
    "# School-to-crossing\n",
    "c = b6.collection(*[ b6.pair( b6.find_feature(r.school_feature_id)\n",
    "                            , b6.find_feature(r.crossing_feature_id)\n",
    "                            ) for _, r in min_df.iterrows()])\n",
    "add_collection = b6.add_collection(schools_collection, {\"b6-title\": b6.tag(\"b6:title\", \"Schools and closest crossing\")}, c)"
   ]
  },
  {
   "cell_type": "code",
   "execution_count": 135,
   "id": "2a7ed5d5-b50d-4cfd-b4ca-97ecdd29834b",
   "metadata": {},
   "outputs": [],
   "source": [
    "add_root = b6.add_collection(root, {}, b6.collection(\n",
    "    b6.pair(\"centroid\", emas_feature_id),\n",
    "    b6.pair(\"docked\", distance_histogram_id),\n",
    "    b6.pair(\"docked\", speed_histogram_id),\n",
    "    b6.pair(\"docked\", kind_histogram_id),\n",
    "    b6.pair(\"docked\", schools_collection_id),\n",
    "))"
   ]
  },
  {
   "cell_type": "code",
   "execution_count": 136,
   "id": "5e9da917-dac2-494c-a098-c4aedcf2e781",
   "metadata": {},
   "outputs": [],
   "source": [
    "all_changes = \\\n",
    "    [ add_root\n",
    "    , distance_histogram\n",
    "    , distance_histogram_labels\n",
    "    , speed_histogram\n",
    "    , speed_histogram_labels\n",
    "    , kind_histogram\n",
    "    , kind_histogram_labels\n",
    "    , add_collection\n",
    "    ] \n",
    "\n",
    "changes = b6.merge_changes(all_changes)"
   ]
  },
  {
   "cell_type": "code",
   "execution_count": 137,
   "id": "5f160f6f-c5d7-4deb-b8bf-04098e3986d4",
   "metadata": {},
   "outputs": [
    {
     "name": "stdout",
     "output_type": "stream",
     "text": [
      "http://localhost:8001/?r=/collection/diagonal.works/edinburgh/school-crossing-analyis/0\n"
     ]
    }
   ],
   "source": [
    "w_root( changes )\n",
    "print(f\"http://localhost:8001/?r={root}\")"
   ]
  },
  {
   "cell_type": "markdown",
   "id": "5ccf8a43-56d5-4552-b9a7-9bbed1a13370",
   "metadata": {},
   "source": [
    "## Todo\n",
    "\n",
    "- [x] Add world in b6 and center around EMAS\n",
    "- [ ] Add dock to click on school and see closest crossing\n",
    "- [ ] Colour the schools\n",
    "- [ ] (Bonus) Emoji's for the crossing\n",
    "- [x] Histogram for the breakdowns\n",
    "- [ ] (Bonus) Tabs for \"top 10 best\" and \"top 10 worst\"\n",
    "- [x] Histogram for the crossing kinds\n",
    "- [x] Histogram for the speeds\n",
    "- [ ] Comparative analysis to Glasgow\n",
    "- [ ] (Bonus) Is there data on if there is a \"Lollipop person\" present at the crossings?"
   ]
  },
  {
   "cell_type": "code",
   "execution_count": null,
   "id": "ea0d4b29-efb6-4149-96aa-65df219e4211",
   "metadata": {},
   "outputs": [],
   "source": []
  }
 ],
 "metadata": {
  "kernelspec": {
   "display_name": "Python 3 (ipykernel)",
   "language": "python",
   "name": "python3"
  },
  "language_info": {
   "codemirror_mode": {
    "name": "ipython",
    "version": 3
   },
   "file_extension": ".py",
   "mimetype": "text/x-python",
   "name": "python",
   "nbconvert_exporter": "python",
   "pygments_lexer": "ipython3",
   "version": "3.12.7"
  }
 },
 "nbformat": 4,
 "nbformat_minor": 5
}
